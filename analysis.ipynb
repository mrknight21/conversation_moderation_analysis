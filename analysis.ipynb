{
 "cells": [
  {
   "cell_type": "code",
   "execution_count": 20,
   "id": "1c5504f6-509a-4cc8-8dc8-b1dd165abcfb",
   "metadata": {},
   "outputs": [],
   "source": [
    "import pandas as pd\n",
    "import numpy as np\n",
    "from sklearn.metrics import confusion_matrix, ConfusionMatrixDisplay\n",
    "import matplotlib.pyplot as plt"
   ]
  },
  {
   "cell_type": "code",
   "execution_count": 2,
   "id": "51a21e7b-fec5-4cd2-bca4-16012b340e97",
   "metadata": {},
   "outputs": [],
   "source": [
    "output = pd.read_csv(\"gpt35_output.csv\")"
   ]
  },
  {
   "cell_type": "code",
   "execution_count": 7,
   "id": "e9c49fb2-8394-4d8d-9226-3d1f5eb46b18",
   "metadata": {},
   "outputs": [],
   "source": [
    "output.drop(['Unnamed: 0'], axis=1, inplace= True)"
   ]
  },
  {
   "cell_type": "code",
   "execution_count": 10,
   "id": "96c1821e-d7ee-449d-baad-517753bbba3d",
   "metadata": {},
   "outputs": [
    {
     "data": {
      "text/html": [
       "<div>\n",
       "<style scoped>\n",
       "    .dataframe tbody tr th:only-of-type {\n",
       "        vertical-align: middle;\n",
       "    }\n",
       "\n",
       "    .dataframe tbody tr th {\n",
       "        vertical-align: top;\n",
       "    }\n",
       "\n",
       "    .dataframe thead th {\n",
       "        text-align: right;\n",
       "    }\n",
       "</style>\n",
       "<table border=\"1\" class=\"dataframe\">\n",
       "  <thead>\n",
       "    <tr style=\"text-align: right;\">\n",
       "      <th></th>\n",
       "      <th>debate_id</th>\n",
       "      <th>utterance_id</th>\n",
       "      <th>split</th>\n",
       "      <th>title</th>\n",
       "      <th>speakers</th>\n",
       "      <th>dialogue_history</th>\n",
       "      <th>debate_result</th>\n",
       "      <th>ans_speaker</th>\n",
       "      <th>ans_role</th>\n",
       "      <th>ans_text</th>\n",
       "      <th>prompt</th>\n",
       "      <th>pred_response</th>\n",
       "      <th>pred_speaker</th>\n",
       "      <th>pred_role</th>\n",
       "      <th>pred_intervene</th>\n",
       "      <th>gt_intervene</th>\n",
       "    </tr>\n",
       "  </thead>\n",
       "  <tbody>\n",
       "    <tr>\n",
       "      <th>0</th>\n",
       "      <td>20148</td>\n",
       "      <td>20230_0</td>\n",
       "      <td>test</td>\n",
       "      <td>Prohibit Genetically Engineered Babies</td>\n",
       "      <td>John Donvan&lt;mod&gt;: Author and correspondent for...</td>\n",
       "      <td>John Donvan (role: mod): The question I'm aski...</td>\n",
       "      <td>{'breakdown': {'against_for': 4.5, 'undecided_...</td>\n",
       "      <td>John Donvan</td>\n",
       "      <td>mod</td>\n",
       "      <td>Yeah.</td>\n",
       "      <td>In your capacity as the moderator of this deba...</td>\n",
       "      <td>Let's stay focused on the current topic of gen...</td>\n",
       "      <td>John Donvan</td>\n",
       "      <td>mod</td>\n",
       "      <td>True</td>\n",
       "      <td>True</td>\n",
       "    </tr>\n",
       "    <tr>\n",
       "      <th>1</th>\n",
       "      <td>20148</td>\n",
       "      <td>20204_0</td>\n",
       "      <td>test</td>\n",
       "      <td>Prohibit Genetically Engineered Babies</td>\n",
       "      <td>John Donvan&lt;mod&gt;: Author and correspondent for...</td>\n",
       "      <td>John Donvan (role: mod): Nita, do you want to ...</td>\n",
       "      <td>{'breakdown': {'against_for': 4.5, 'undecided_...</td>\n",
       "      <td>John Donvan</td>\n",
       "      <td>mod</td>\n",
       "      <td>So do you concede that point to them?</td>\n",
       "      <td>In your capacity as the moderator of this deba...</td>\n",
       "      <td>Nita, please provide evidence to support your ...</td>\n",
       "      <td>John Donvan</td>\n",
       "      <td>mod</td>\n",
       "      <td>True</td>\n",
       "      <td>True</td>\n",
       "    </tr>\n",
       "    <tr>\n",
       "      <th>2</th>\n",
       "      <td>20148</td>\n",
       "      <td>20232_0</td>\n",
       "      <td>test</td>\n",
       "      <td>Prohibit Genetically Engineered Babies</td>\n",
       "      <td>John Donvan&lt;mod&gt;: Author and correspondent for...</td>\n",
       "      <td>Lord Robert Winston (role: for): In June 2000,...</td>\n",
       "      <td>{'breakdown': {'against_for': 4.5, 'undecided_...</td>\n",
       "      <td>John Donvan</td>\n",
       "      <td>mod</td>\n",
       "      <td>How far do you want it to go?</td>\n",
       "      <td>In your capacity as the moderator of this deba...</td>\n",
       "      <td>Nita Farahany, please respond to the question ...</td>\n",
       "      <td>John Donvan</td>\n",
       "      <td>mod</td>\n",
       "      <td>True</td>\n",
       "      <td>True</td>\n",
       "    </tr>\n",
       "  </tbody>\n",
       "</table>\n",
       "</div>"
      ],
      "text/plain": [
       "   debate_id utterance_id split                                   title  \\\n",
       "0      20148      20230_0  test  Prohibit Genetically Engineered Babies   \n",
       "1      20148      20204_0  test  Prohibit Genetically Engineered Babies   \n",
       "2      20148      20232_0  test  Prohibit Genetically Engineered Babies   \n",
       "\n",
       "                                            speakers  \\\n",
       "0  John Donvan<mod>: Author and correspondent for...   \n",
       "1  John Donvan<mod>: Author and correspondent for...   \n",
       "2  John Donvan<mod>: Author and correspondent for...   \n",
       "\n",
       "                                    dialogue_history  \\\n",
       "0  John Donvan (role: mod): The question I'm aski...   \n",
       "1  John Donvan (role: mod): Nita, do you want to ...   \n",
       "2  Lord Robert Winston (role: for): In June 2000,...   \n",
       "\n",
       "                                       debate_result  ans_speaker ans_role  \\\n",
       "0  {'breakdown': {'against_for': 4.5, 'undecided_...  John Donvan      mod   \n",
       "1  {'breakdown': {'against_for': 4.5, 'undecided_...  John Donvan      mod   \n",
       "2  {'breakdown': {'against_for': 4.5, 'undecided_...  John Donvan      mod   \n",
       "\n",
       "                                ans_text  \\\n",
       "0                                  Yeah.   \n",
       "1  So do you concede that point to them?   \n",
       "2          How far do you want it to go?   \n",
       "\n",
       "                                              prompt  \\\n",
       "0  In your capacity as the moderator of this deba...   \n",
       "1  In your capacity as the moderator of this deba...   \n",
       "2  In your capacity as the moderator of this deba...   \n",
       "\n",
       "                                       pred_response pred_speaker pred_role  \\\n",
       "0  Let's stay focused on the current topic of gen...  John Donvan       mod   \n",
       "1  Nita, please provide evidence to support your ...  John Donvan       mod   \n",
       "2  Nita Farahany, please respond to the question ...  John Donvan       mod   \n",
       "\n",
       "   pred_intervene  gt_intervene  \n",
       "0            True          True  \n",
       "1            True          True  \n",
       "2            True          True  "
      ]
     },
     "execution_count": 10,
     "metadata": {},
     "output_type": "execute_result"
    }
   ],
   "source": [
    "output.head(3)"
   ]
  },
  {
   "cell_type": "code",
   "execution_count": 12,
   "id": "c2643328-e63b-4894-b520-27ce1963302a",
   "metadata": {},
   "outputs": [
    {
     "data": {
      "text/plain": [
       "{'speaker accuracy': 0.4397705544933078,\n",
       " 'role accuracy': 0.45506692160611856,\n",
       " 'moderation accuracy': 0.49521988527724664}"
      ]
     },
     "execution_count": 12,
     "metadata": {},
     "output_type": "execute_result"
    }
   ],
   "source": [
    "report = {\n",
    "        \"speaker accuracy\": (output[\"pred_speaker\"] == output[\"ans_speaker\"]).sum() / len(output),\n",
    "        \"role accuracy\": (output[\"pred_role\"] == output[\"ans_role\"]).sum() / len(output),\n",
    "        \"moderation accuracy\": (output[\"pred_intervene\"] == output[\"gt_intervene\"]).sum() / len(output),\n",
    "    }\n",
    "report"
   ]
  },
  {
   "cell_type": "code",
   "execution_count": 22,
   "id": "eec6e461-413a-4dd1-b12d-990a5c06daae",
   "metadata": {},
   "outputs": [
    {
     "data": {
      "image/png": "[encoded data removed]",
      "text/plain": [
       "<Figure size 640x480 with 2 Axes>"
      ]
     },
     "metadata": {},
     "output_type": "display_data"
    }
   ],
   "source": [
    "cm = confusion_matrix(output[\"ans_role\"], output[\"pred_role\"], labels=[\"mod\", \"for\", \"against\"])\n",
    "disp = ConfusionMatrixDisplay(confusion_matrix=cm, display_labels=[\"mod\", \"for\", \"against\"])\n",
    "disp.plot()\n",
    "plt.show()"
   ]
  },
  {
   "cell_type": "code",
   "execution_count": 23,
   "id": "26e7ee6e-56e7-4561-ad5c-bb9ffb13af6a",
   "metadata": {},
   "outputs": [
    {
     "data": {
      "image/png": "[encoded data removed]",
      "text/plain": [
       "<Figure size 640x480 with 2 Axes>"
      ]
     },
     "metadata": {},
     "output_type": "display_data"
    }
   ],
   "source": [
    "cm = confusion_matrix(output[\"gt_intervene\"], output[\"pred_intervene\"])\n",
    "disp = ConfusionMatrixDisplay(confusion_matrix=cm)\n",
    "disp.plot()\n",
    "plt.show()"
   ]
  },
  {
   "cell_type": "code",
   "execution_count": null,
   "id": "b329a8a3-3efa-4a4e-93be-8b1a834c801b",
   "metadata": {},
   "outputs": [],
   "source": []
  }
 ],
 "metadata": {
  "kernelspec": {
   "display_name": "Python 3 (ipykernel)",
   "language": "python",
   "name": "python3"
  },
  "language_info": {
   "codemirror_mode": {
    "name": "ipython",
    "version": 3
   },
   "file_extension": ".py",
   "mimetype": "text/x-python",
   "name": "python",
   "nbconvert_exporter": "python",
   "pygments_lexer": "ipython3",
   "version": "3.11.4"
  }
 },
 "nbformat": 4,
 "nbformat_minor": 5
}
