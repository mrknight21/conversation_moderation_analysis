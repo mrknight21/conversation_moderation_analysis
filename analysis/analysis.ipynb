{
 "cells": [
  {
   "cell_type": "code",
   "execution_count": 145,
   "id": "1c5504f6-509a-4cc8-8dc8-b1dd165abcfb",
   "metadata": {},
   "outputs": [],
   "source": [
    "import pandas as pd\n",
    "import numpy as np\n",
    "import glob\n",
    "from sklearn.metrics import confusion_matrix, ConfusionMatrixDisplay\n",
    "import matplotlib.pyplot as plt\n",
    "import json\n",
    "from collections import Counter"
   ]
  },
  {
   "cell_type": "code",
   "execution_count": 94,
   "id": "3fcad207-65c6-4b9e-acf1-3049f5f5f320",
   "metadata": {},
   "outputs": [],
   "source": [
    "def load_json_data(path):\n",
    "    data_set = []\n",
    "    with open(path) as f:\n",
    "        json_objs = json.load(f)\n",
    "        return json_objs"
   ]
  },
  {
   "cell_type": "code",
   "execution_count": 100,
   "id": "3bc614a8-9531-410d-b114-2d1a007961a8",
   "metadata": {},
   "outputs": [],
   "source": [
    "DATA_FOLDER = \"./data/insq/agg/\"\n",
    "RAW_TRAIN_DATA = \"./data/insq/train/\""
   ]
  },
  {
   "cell_type": "code",
   "execution_count": 138,
   "id": "b329a8a3-3efa-4a4e-93be-8b1a834c801b",
   "metadata": {},
   "outputs": [],
   "source": [
    "test_data = load_json_data(DATA_FOLDER + \"/test_valid.json\")\n",
    "dev_data = load_json_data(DATA_FOLDER + \"/dev_valid.json\")\n",
    "train_data = load_json_data(DATA_FOLDER + \"/train.json\")"
   ]
  },
  {
   "cell_type": "code",
   "execution_count": 97,
   "id": "0ccd4065-6211-40dc-85a2-f2ac0d72e7df",
   "metadata": {},
   "outputs": [],
   "source": [
    "total_annotation = test_data\n",
    "total_annotation.extend(dev_data)"
   ]
  },
  {
   "cell_type": "code",
   "execution_count": 98,
   "id": "b04ed2a4-f19a-429e-9ca3-37de722c6d01",
   "metadata": {},
   "outputs": [],
   "source": [
    "even_vote_counts = {\"informational motive\": {\"count\":0, \"cases\":[]}, \"social motive\": {\"count\":0, \"cases\":[]}, \"coordinative motive\": {\"count\":0, \"cases\":[]}, \"dialogue act\": {\"count\":0, \"cases\":[]}, \"target speaker(s)\":{\"count\":0, \"cases\":[]}}\n"
   ]
  },
  {
   "cell_type": "code",
   "execution_count": 99,
   "id": "7d797f96-0db1-428b-9d92-d89224cfeade",
   "metadata": {},
   "outputs": [],
   "source": [
    "def is_vote_even(votes):\n",
    "    votes_counts = Counter(list(votes.values()))\n",
    "    total_votes = len(votes.keys())\n",
    "    highest_vote = votes_counts.most_common()[0][1]\n",
    "    if highest_vote / total_votes > 0.5:\n",
    "        return False\n",
    "    return True"
   ]
  },
  {
   "cell_type": "code",
   "execution_count": 76,
   "id": "c1c8d21f-f0c7-474f-8fa9-aeca666bc0dd",
   "metadata": {},
   "outputs": [],
   "source": [
    "for a in total_annotation:\n",
    "    human_a = a[\"answer\"][\"human\"]\n",
    "    motives = human_a[\"motives\"]\n",
    "    if is_vote_even(human_a['dialogue act']['vote']):\n",
    "        even_vote_counts['dialogue act'][\"count\"] += 1\n",
    "        even_vote_counts['dialogue act'][\"cases\"].append(a)\n",
    "    if is_vote_even(human_a['target speaker(s)']['vote']):\n",
    "        even_vote_counts['target speaker(s)'][\"count\"] += 1\n",
    "        even_vote_counts['target speaker(s)'][\"cases\"].append(a)\n",
    "        \n",
    "    if is_vote_even(motives['informational motive']['vote']):\n",
    "        even_vote_counts['informational motive'][\"count\"] += 1\n",
    "        even_vote_counts['informational motive'][\"cases\"].append(a)\n",
    "    if is_vote_even(motives['social motive']['vote']):\n",
    "        even_vote_counts['social motive'][\"count\"] += 1\n",
    "        even_vote_counts['social motive'][\"cases\"].append(a)\n",
    "    if is_vote_even(motives['coordinative motive']['vote']):\n",
    "        even_vote_counts['coordinative motive'][\"count\"] += 1\n",
    "        even_vote_counts['coordinative motive'][\"cases\"].append(a)\n",
    "    "
   ]
  },
  {
   "cell_type": "code",
   "execution_count": 79,
   "id": "f9fb5739-ee8e-4aed-8a86-927cfcc5f1a2",
   "metadata": {},
   "outputs": [
    {
     "name": "stdout",
     "output_type": "stream",
     "text": [
      "informational motive, 422, 0.09330090647800132\n",
      "social motive, 226, 0.049966836170683177\n",
      "coordinative motive, 548, 0.12115852310413443\n",
      "dialogue act, 881, 0.19478222418748617\n",
      "target speaker(s), 489, 0.10811408357284988\n"
     ]
    }
   ],
   "source": [
    "for k, v in even_vote_counts.items():\n",
    "    print(f\"{k}, {v['count']}, {v['count'] / len(total_annotation)}\")"
   ]
  },
  {
   "cell_type": "code",
   "execution_count": 87,
   "id": "37298330-a0b4-421f-915f-a752a591c7c6",
   "metadata": {},
   "outputs": [
    {
     "data": {
      "text/plain": [
       "Counter({5: 712, 4: 1451, 3: 400, 0: 1107, 1: 171, 2: 682})"
      ]
     },
     "execution_count": 87,
     "metadata": {},
     "output_type": "execute_result"
    }
   ],
   "source": [
    "das = [a[\"answer\"][\"human\"][\"dialogue act\"][\"label\"] for a in total_annotation]\n",
    "das_counter = Counter(das)\n",
    "das_counter"
   ]
  },
  {
   "cell_type": "code",
   "execution_count": 89,
   "id": "d2e97e87-eb84-4780-9bfc-4a847dd2e669",
   "metadata": {},
   "outputs": [
    {
     "data": {
      "text/plain": [
       "Counter({0.0: 2809, 1.0: 1714})"
      ]
     },
     "execution_count": 89,
     "metadata": {},
     "output_type": "execute_result"
    }
   ],
   "source": [
    "ims = [a[\"answer\"][\"human\"][\"motives\"][\"informational motive\"][\"label\"] for a in total_annotation]\n",
    "ims_counter = Counter(ims)\n",
    "ims_counter"
   ]
  },
  {
   "cell_type": "code",
   "execution_count": 90,
   "id": "989b8482-03fc-4d77-9016-7e63a3c1f0d6",
   "metadata": {},
   "outputs": [
    {
     "data": {
      "text/plain": [
       "Counter({1.0: 517, 0.0: 4006})"
      ]
     },
     "execution_count": 90,
     "metadata": {},
     "output_type": "execute_result"
    }
   ],
   "source": [
    "sms = [a[\"answer\"][\"human\"][\"motives\"][\"social motive\"][\"label\"] for a in total_annotation]\n",
    "sms_counter = Counter(sms)\n",
    "sms_counter"
   ]
  },
  {
   "cell_type": "code",
   "execution_count": 91,
   "id": "0cb1e4d4-f93d-4254-87f9-a45ef374144d",
   "metadata": {},
   "outputs": [
    {
     "data": {
      "text/plain": [
       "Counter({0.0: 2302, 1.0: 2221})"
      ]
     },
     "execution_count": 91,
     "metadata": {},
     "output_type": "execute_result"
    }
   ],
   "source": [
    "cms = [a[\"answer\"][\"human\"][\"motives\"][\"coordinative motive\"][\"label\"] for a in total_annotation]\n",
    "cms_counter = Counter(cms)\n",
    "cms_counter"
   ]
  },
  {
   "cell_type": "code",
   "execution_count": null,
   "id": "397bfb6b-ffb1-4d3b-9c48-70974cd10470",
   "metadata": {},
   "outputs": [],
   "source": [
    "tss = [a[\"answer\"][\"human\"][\"target speaker(s)\"][\"label\"] for a in total_annotation]\n",
    "tss_counter = Counter(tss)\n",
    "tss_counter"
   ]
  },
  {
   "cell_type": "code",
   "execution_count": 101,
   "id": "1d3ed12e-fb5e-4149-8030-694b63188e7f",
   "metadata": {},
   "outputs": [],
   "source": [
    "valid_dev = pd.read_excel(DATA_FOLDER + \"/dev_valid_agg.xlsx\", index_col=0)"
   ]
  },
  {
   "cell_type": "code",
   "execution_count": 117,
   "id": "111df9f5-5499-4aa4-85cc-67231edfe2c7",
   "metadata": {},
   "outputs": [
    {
     "data": {
      "text/plain": [
       "2    609\n",
       "0    377\n",
       "5    259\n",
       "4    185\n",
       "1    184\n",
       "3     95\n",
       "Name: dialogue act gpt, dtype: int64"
      ]
     },
     "execution_count": 117,
     "metadata": {},
     "output_type": "execute_result"
    }
   ],
   "source": [
    "valid_dev[\"dialogue act gpt\"].value_counts()"
   ]
  },
  {
   "cell_type": "code",
   "execution_count": 129,
   "id": "5b856af4-cf7a-4db8-9112-bb6931cae4eb",
   "metadata": {},
   "outputs": [],
   "source": [
    "df = valid_dev[(valid_dev[\"dialogue act\"] != valid_dev[\"dialogue act gpt\"]) & (valid_dev[\"dialogue act gpt\"] == 2)]\n"
   ]
  },
  {
   "cell_type": "code",
   "execution_count": 130,
   "id": "5b36309c-40e9-4e06-bf2f-60d3ae17d999",
   "metadata": {},
   "outputs": [
    {
     "data": {
      "text/plain": [
       "4    190\n",
       "0     76\n",
       "5     59\n",
       "3      8\n",
       "1      3\n",
       "Name: dialogue act, dtype: int64"
      ]
     },
     "execution_count": 130,
     "metadata": {},
     "output_type": "execute_result"
    }
   ],
   "source": [
    "df[\"dialogue act\"].value_counts()"
   ]
  },
  {
   "cell_type": "code",
   "execution_count": 133,
   "id": "09136a72-5ce3-4c28-95a7-448ac5ba543c",
   "metadata": {},
   "outputs": [],
   "source": [
    "tdf = df[df[\"dialogue act\"] == 4][[\"id\", 'target', 'dialogue act', 'dialogue act vote', 'dialogue act gpt', 'gpt promp', 'gpt reason']]"
   ]
  },
  {
   "cell_type": "code",
   "execution_count": null,
   "id": "567e572f-8710-4d37-93c0-4f97a6a279f0",
   "metadata": {},
   "outputs": [],
   "source": [
    "for i, r in tdf.iterrows():\n",
    "    print(\"................................\")\n",
    "    print(r.id)\n",
    "    print(r.target)\n",
    "    print(r[\"dialogue act vote\"])"
   ]
  },
  {
   "cell_type": "code",
   "execution_count": 144,
   "id": "f36cf3c4-909e-4798-ab33-8e256fa46c35",
   "metadata": {},
   "outputs": [],
   "source": [
    "train_data_dic = {i[\"id\"]: i for i in train_data}"
   ]
  },
  {
   "cell_type": "code",
   "execution_count": null,
   "id": "4a0ca77d-347b-4c68-b538-dc6743989cf5",
   "metadata": {},
   "outputs": [],
   "source": [
    "raw_train_files = glob.glob(RAW_TRAIN_DATA + \"*.xlsl\")"
   ]
  }
 ],
 "metadata": {
  "kernelspec": {
   "display_name": "Python 3 (ipykernel)",
   "language": "python",
   "name": "python3"
  },
  "language_info": {
   "codemirror_mode": {
    "name": "ipython",
    "version": 3
   },
   "file_extension": ".py",
   "mimetype": "text/x-python",
   "name": "python",
   "nbconvert_exporter": "python",
   "pygments_lexer": "ipython3",
   "version": "3.11.4"
  }
 },
 "nbformat": 4,
 "nbformat_minor": 5
}
